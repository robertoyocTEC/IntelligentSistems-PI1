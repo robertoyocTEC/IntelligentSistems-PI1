{
 "cells": [
  {
   "cell_type": "markdown",
   "metadata": {},
   "source": [
    "# IDS"
   ]
  },
  {
   "cell_type": "markdown",
   "metadata": {},
   "source": [
    "- [Utils](#Utils)\n",
    "- [Main logic](#Main-Logic)\n",
    "- [Example #1](#Example-1)\n",
    "- [Example #2](#Example-2)\n",
    "- [Example #3](#Example-3)"
   ]
  },
  {
   "cell_type": "code",
   "execution_count": 39,
   "metadata": {},
   "outputs": [],
   "source": [
    "initial_board = [\n",
    "   1,5,4,2,3,0,8,7,6\n",
    "]\n",
    "target_board = [\n",
    "    1, 2, 3,\n",
    "    4, 5, 6,\n",
    "    7, 8, 0\n",
    "]\n",
    "\n"
   ]
  },
  {
   "cell_type": "markdown",
   "metadata": {},
   "source": [
    "# Utils"
   ]
  },
  {
   "cell_type": "code",
   "execution_count": 87,
   "metadata": {},
   "outputs": [],
   "source": [
    "def print_board(board):\n",
    "    for index in range(3):\n",
    "        print('{} | {} | {}'.format(board[3 * index + 0], board[3 * index + 1], board[3 * index + 2]))\n",
    "        \n",
    "        if index < 2:\n",
    "            print('---------')\n",
    "            \n",
    "\n",
    "def trace_route(final):\n",
    "    if final:\n",
    "        final.reverse()\n",
    "        \n",
    "        \n",
    "        print('Total Steps: {}'.format(len(final)-1))\n",
    "        for i, node in enumerate(final):\n",
    "            print('Step {}'.format(i))\n",
    "            print_board(node)\n",
    "            print('______________')\n",
    "            print()\n",
    "        \n",
    "    else:\n",
    "        print('Not possible')\n",
    "    "
   ]
  },
  {
   "cell_type": "code",
   "execution_count": 88,
   "metadata": {},
   "outputs": [
    {
     "name": "stdout",
     "output_type": "stream",
     "text": [
      "0 | 1 | 2\n",
      "---------\n",
      "4 | 5 | 3\n",
      "---------\n",
      "7 | 8 | 6\n"
     ]
    }
   ],
   "source": [
    "print_board(initial_board)"
   ]
  },
  {
   "cell_type": "code",
   "execution_count": 89,
   "metadata": {},
   "outputs": [
    {
     "name": "stdout",
     "output_type": "stream",
     "text": [
      "1 | 2 | 3\n",
      "---------\n",
      "4 | 5 | 6\n",
      "---------\n",
      "7 | 8 | 0\n"
     ]
    }
   ],
   "source": [
    "print_board(target_board)"
   ]
  },
  {
   "cell_type": "markdown",
   "metadata": {},
   "source": [
    "## Main Logic"
   ]
  },
  {
   "cell_type": "code",
   "execution_count": 90,
   "metadata": {},
   "outputs": [],
   "source": [
    "allowed_moves = [\n",
    "    [1, 3],\n",
    "    [0, 2, 4],\n",
    "    [1, 5],\n",
    "    [0, 4, 6],\n",
    "    [1, 3, 5, 7],\n",
    "    [2, 4, 8],\n",
    "    [3, 7],\n",
    "    [4, 6, 8],\n",
    "    [5, 7]\n",
    "]\n",
    "def adyacencies(src):\n",
    "    pos = src.index(0)\n",
    "    adys = []\n",
    "    for move in allowed_moves[pos]:\n",
    "        new_board = src.copy()\n",
    "        new_board[pos] = new_board[move]\n",
    "        new_board[move] = 0\n",
    "        adys.append(new_board)\n",
    "    return adys"
   ]
  },
  {
   "cell_type": "code",
   "execution_count": 91,
   "metadata": {},
   "outputs": [],
   "source": [
    "\n",
    "\n",
    "def IDS(src, dest, limit):\n",
    "    total_operations = 0\n",
    "    for i in range(limit):\n",
    "        ops, value, route = ids(src, dest, i)\n",
    "        total_operations = total_operations + ops\n",
    "        if value:\n",
    "            return total_operations, True, route\n",
    "            print('DONE')\n",
    "    print('Not able to find')\n",
    "    return total_operations, False, []\n",
    "\n",
    "    \n",
    "def ids(src, dest, limit):\n",
    "    ops = 1\n",
    "    if src == dest:\n",
    "        return ops, True, [src]\n",
    "    if limit<=0:\n",
    "        return ops, False, []\n",
    "    for ady in adyacencies(src):\n",
    "        ops_r, value, route = ids(ady, dest, limit - 1)\n",
    "        if value:\n",
    "            ops = ops + ops_r\n",
    "            route.append(src)\n",
    "            return ops, True, route\n",
    "    return ops, False, []\n",
    "        \n"
   ]
  },
  {
   "cell_type": "markdown",
   "metadata": {},
   "source": [
    "# Example 1"
   ]
  },
  {
   "cell_type": "code",
   "execution_count": 92,
   "metadata": {},
   "outputs": [
    {
     "name": "stdout",
     "output_type": "stream",
     "text": [
      "Total Operations 7\n",
      "Total Steps: 3\n",
      "Step 0\n",
      "1 | 2 | 3\n",
      "---------\n",
      "0 | 4 | 5\n",
      "---------\n",
      "7 | 8 | 6\n",
      "______________\n",
      "\n",
      "Step 1\n",
      "1 | 2 | 3\n",
      "---------\n",
      "4 | 0 | 5\n",
      "---------\n",
      "7 | 8 | 6\n",
      "______________\n",
      "\n",
      "Step 2\n",
      "1 | 2 | 3\n",
      "---------\n",
      "4 | 5 | 0\n",
      "---------\n",
      "7 | 8 | 6\n",
      "______________\n",
      "\n",
      "Step 3\n",
      "1 | 2 | 3\n",
      "---------\n",
      "4 | 5 | 6\n",
      "---------\n",
      "7 | 8 | 0\n",
      "______________\n",
      "\n"
     ]
    }
   ],
   "source": [
    "initial_board = [\n",
    "    1, 2, 3,\n",
    "    0, 4, 5,\n",
    "    7, 8, 6\n",
    "]\n",
    "ops, final, route = IDS(initial_board, target_board, 25)\n",
    "print('Total Operations {}'.format(ops))\n",
    "trace_route(route)"
   ]
  },
  {
   "cell_type": "markdown",
   "metadata": {},
   "source": [
    "# Example 2"
   ]
  },
  {
   "cell_type": "code",
   "execution_count": 93,
   "metadata": {},
   "outputs": [
    {
     "name": "stdout",
     "output_type": "stream",
     "text": [
      "Total Operations 5\n",
      "Total Steps: 2\n",
      "Step 0\n",
      "1 | 2 | 0\n",
      "---------\n",
      "4 | 5 | 3\n",
      "---------\n",
      "7 | 8 | 6\n",
      "______________\n",
      "\n",
      "Step 1\n",
      "1 | 2 | 3\n",
      "---------\n",
      "4 | 5 | 0\n",
      "---------\n",
      "7 | 8 | 6\n",
      "______________\n",
      "\n",
      "Step 2\n",
      "1 | 2 | 3\n",
      "---------\n",
      "4 | 5 | 6\n",
      "---------\n",
      "7 | 8 | 0\n",
      "______________\n",
      "\n"
     ]
    }
   ],
   "source": [
    "\n",
    "initial_board = [\n",
    "    1, 2, 0,\n",
    "    4, 5, 3,\n",
    "    7, 8, 6\n",
    "]\n",
    "ops, final, route = IDS(initial_board, target_board, 25)\n",
    "print('Total Operations {}'.format(ops))\n",
    "trace_route(route)"
   ]
  },
  {
   "cell_type": "markdown",
   "metadata": {},
   "source": [
    "# Example 3"
   ]
  },
  {
   "cell_type": "code",
   "execution_count": 94,
   "metadata": {},
   "outputs": [
    {
     "name": "stdout",
     "output_type": "stream",
     "text": [
      "Total Operations 9\n",
      "Total Steps: 4\n",
      "Step 0\n",
      "0 | 1 | 2\n",
      "---------\n",
      "4 | 5 | 3\n",
      "---------\n",
      "7 | 8 | 6\n",
      "______________\n",
      "\n",
      "Step 1\n",
      "1 | 0 | 2\n",
      "---------\n",
      "4 | 5 | 3\n",
      "---------\n",
      "7 | 8 | 6\n",
      "______________\n",
      "\n",
      "Step 2\n",
      "1 | 2 | 0\n",
      "---------\n",
      "4 | 5 | 3\n",
      "---------\n",
      "7 | 8 | 6\n",
      "______________\n",
      "\n",
      "Step 3\n",
      "1 | 2 | 3\n",
      "---------\n",
      "4 | 5 | 0\n",
      "---------\n",
      "7 | 8 | 6\n",
      "______________\n",
      "\n",
      "Step 4\n",
      "1 | 2 | 3\n",
      "---------\n",
      "4 | 5 | 6\n",
      "---------\n",
      "7 | 8 | 0\n",
      "______________\n",
      "\n"
     ]
    }
   ],
   "source": [
    "initial_board = [\n",
    "    0, 1, 2,\n",
    "    4, 5, 3,\n",
    "    7, 8, 6\n",
    "]\n",
    "ops, final, route = IDS(initial_board, target_board, 25)\n",
    "print('Total Operations {}'.format(ops))\n",
    "trace_route(route)"
   ]
  }
 ],
 "metadata": {
  "kernelspec": {
   "display_name": "Python 3",
   "language": "python",
   "name": "python3"
  },
  "language_info": {
   "codemirror_mode": {
    "name": "ipython",
    "version": 3
   },
   "file_extension": ".py",
   "mimetype": "text/x-python",
   "name": "python",
   "nbconvert_exporter": "python",
   "pygments_lexer": "ipython3",
   "version": "3.8.2"
  }
 },
 "nbformat": 4,
 "nbformat_minor": 4
}
