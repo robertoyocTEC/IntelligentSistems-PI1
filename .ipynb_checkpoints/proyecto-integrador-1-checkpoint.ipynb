{
 "cells": [
  {
   "cell_type": "markdown",
   "metadata": {},
   "source": [
    "# Proyecto integrador 1"
   ]
  },
  {
   "cell_type": "markdown",
   "metadata": {},
   "source": [
    "El rompecabezas numérico de 3x3 consta de 8 piezas con un número entre 1 y 8 cada una. El juego consiste en reacomodar las piezas de acuerdo con una configuración final deseada. Para ello, solamente es posible mover una pieza a la vez hacia el único espacio vacío disponible en el tablero.\n",
    "\n",
    "El objetivo de esta actividad consiste en programar diversos métodos de búsqueda tanto no informada como informada para contar el número de movimientos requeridos para alcanzar la configuración final siguiente:\n",
    "\n",
    "1 | 2 | 3\n",
    "<br />\n",
    "4 | 5 | 6\n",
    "<br />\n",
    "7 | 8 |\n",
    "\n",
    "Los algoritmos a implementar son los siguientes:\n",
    "\n",
    "1. [Bidirectional Search](bidirectional-search.ipynb)\n",
    "2. Iterative Deeping Depth First Search\n",
    "3. [Best First Search](best-first-search.ipynb)\n",
    "4. A* Search\n",
    "\n",
    "### Entregables\n",
    "\n",
    "Para cada uno de los algoritmos entregar la siguiente información:\n",
    "\n",
    "1. Código fuente de la implementación\n",
    "2. Resultado obtenido (número de pasos requeridos para encontrar la solución)\n",
    "3. Número promedio de operaciones básicas requeridas para obtener el resultado\n",
    "4. 3 ejemplos de ejecución con configuraciones iniciales diferentes (puede ser un video o una captura de pantalla)\n",
    "\n",
    "### Equipo\n",
    "1. Fernando López Martínez A01172527\n",
    "2. Roberto Carlos Yoc Ramírez A01172599"
   ]
  }
 ],
 "metadata": {
  "kernelspec": {
   "display_name": "Python 3",
   "language": "python",
   "name": "python3"
  },
  "language_info": {
   "codemirror_mode": {
    "name": "ipython",
    "version": 3
   },
   "file_extension": ".py",
   "mimetype": "text/x-python",
   "name": "python",
   "nbconvert_exporter": "python",
   "pygments_lexer": "ipython3",
   "version": "3.7.6"
  }
 },
 "nbformat": 4,
 "nbformat_minor": 4
}
