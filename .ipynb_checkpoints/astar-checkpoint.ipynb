{
 "cells": [
  {
   "cell_type": "markdown",
   "metadata": {},
   "source": [
    "# A*"
   ]
  },
  {
   "cell_type": "markdown",
   "metadata": {},
   "source": [
    "- [The board](#The-board)\n",
    "- [Utils](#Utils)\n",
    "- [Main logic](#Main-logic)\n",
    "- [Example #1](#Example-1)\n",
    "- [Example #2](#Example-2)\n",
    "- [Example #3](#Example-3)"
   ]
  },
  {
   "cell_type": "markdown",
   "metadata": {},
   "source": [
    "## The board"
   ]
  },
  {
   "cell_type": "code",
   "execution_count": 1,
   "metadata": {},
   "outputs": [],
   "source": [
    "target_board = [\n",
    "    1, 2, 3,\n",
    "    4, 5, 6,\n",
    "    7, 8, 0\n",
    "]\n",
    "\n",
    "allowed_moves = [\n",
    "    [1, 3],\n",
    "    [0, 2, 4],\n",
    "    [1, 5],\n",
    "    [0, 4, 6],\n",
    "    [1, 3, 5, 7],\n",
    "    [2, 4, 8],\n",
    "    [3, 7],\n",
    "    [4, 6, 8],\n",
    "    [5, 7]\n",
    "]"
   ]
  },
  {
   "cell_type": "markdown",
   "metadata": {},
   "source": [
    "# Utils"
   ]
  },
  {
   "cell_type": "code",
   "execution_count": 2,
   "metadata": {},
   "outputs": [],
   "source": [
    "def print_board(board):\n",
    "    for index in range(3):\n",
    "        print('{} | {} | {}'.format(board[3 * index + 0], board[3 * index + 1], board[3 * index + 2]))\n",
    "        \n",
    "        if index < 2:\n",
    "            print('---------')\n",
    "\n",
    "def trace_route(final):\n",
    "    if final:\n",
    "        route = []\n",
    "        while 'parent' in final:\n",
    "            route.append(final['node'])\n",
    "            final = final['parent']\n",
    "        route.append(final['node'])\n",
    "        route.reverse()\n",
    "        \n",
    "        print('Total steps: {}\\n'.format(len(route)-1))\n",
    "        for i, node in enumerate(route):\n",
    "            print('Step #{}'.format(i))\n",
    "            print_board(node)\n",
    "            print()\n",
    "\n",
    "    else:\n",
    "        print('Not possible')"
   ]
  },
  {
   "cell_type": "code",
   "execution_count": 3,
   "metadata": {},
   "outputs": [
    {
     "name": "stdout",
     "output_type": "stream",
     "text": [
      "1 | 2 | 3\n",
      "---------\n",
      "4 | 5 | 6\n",
      "---------\n",
      "7 | 8 | 0\n"
     ]
    }
   ],
   "source": [
    "print_board(target_board)"
   ]
  },
  {
   "cell_type": "markdown",
   "metadata": {},
   "source": [
    "## Main logic"
   ]
  },
  {
   "cell_type": "code",
   "execution_count": 4,
   "metadata": {},
   "outputs": [],
   "source": [
    "def adyacencies(src):\n",
    "    pos = src.index(0)\n",
    "    adys = []\n",
    "    for move in allowed_moves[pos]:\n",
    "        new_board = src.copy()\n",
    "        new_board[pos] = new_board[move]\n",
    "        new_board[move] = 0\n",
    "        adys.append(new_board)\n",
    "    return adys\n",
    "\n",
    "def pop_min(queue):\n",
    "    queue.sort(key=lambda x:x['h'])\n",
    "    return queue.pop(0)\n",
    "\n",
    "def d(node, current_node):\n",
    "    cost = 9\n",
    "    for index in range(9):\n",
    "        if node[index] == current_node[index]:\n",
    "            cost -= 1\n",
    "    return cost\n",
    "\n",
    "def AStar(src, dest):\n",
    "    total_operations = 0\n",
    "    opened = [{\n",
    "        'h': 0,\n",
    "        'node': src\n",
    "    }]\n",
    "    closed = []\n",
    "    \n",
    "    while len(opened) > 0:\n",
    "        q = pop_min(opened)\n",
    "        total_operations = total_operations + 1\n",
    "        if q['node'] == dest:\n",
    "            return q, total_operations\n",
    "        for ady in adyacencies(q['node']):\n",
    "            if ady not in closed:\n",
    "                g = d(dest, q['node'])\n",
    "                f = d(src, q['node'])\n",
    "                h = g + f\n",
    "                opened.append({\n",
    "                    'h': h,\n",
    "                    'node': ady,\n",
    "                    'parent': q\n",
    "                })\n",
    "        closed.append(q['node'])\n",
    "    \n",
    "    return None"
   ]
  },
  {
   "cell_type": "markdown",
   "metadata": {},
   "source": [
    "## Example 1"
   ]
  },
  {
   "cell_type": "code",
   "execution_count": 5,
   "metadata": {},
   "outputs": [
    {
     "name": "stdout",
     "output_type": "stream",
     "text": [
      "Operations performed = 9\n",
      "Total steps: 3\n",
      "\n",
      "Step #0\n",
      "1 | 2 | 3\n",
      "---------\n",
      "0 | 4 | 5\n",
      "---------\n",
      "7 | 8 | 6\n",
      "\n",
      "Step #1\n",
      "1 | 2 | 3\n",
      "---------\n",
      "4 | 0 | 5\n",
      "---------\n",
      "7 | 8 | 6\n",
      "\n",
      "Step #2\n",
      "1 | 2 | 3\n",
      "---------\n",
      "4 | 5 | 0\n",
      "---------\n",
      "7 | 8 | 6\n",
      "\n",
      "Step #3\n",
      "1 | 2 | 3\n",
      "---------\n",
      "4 | 5 | 6\n",
      "---------\n",
      "7 | 8 | 0\n",
      "\n"
     ]
    }
   ],
   "source": [
    "initial_board_1 = [\n",
    "    1, 2, 3,\n",
    "    0, 4, 5,\n",
    "    7, 8, 6\n",
    "]\n",
    "final, operations = AStar(initial_board_1, target_board)\n",
    "print('Operations performed = {}'.format(operations))\n",
    "trace_route(final)"
   ]
  },
  {
   "cell_type": "markdown",
   "metadata": {},
   "source": [
    "## Example 2"
   ]
  },
  {
   "cell_type": "code",
   "execution_count": 6,
   "metadata": {},
   "outputs": [
    {
     "name": "stdout",
     "output_type": "stream",
     "text": [
      "Operations performed = 5\n",
      "Total steps: 2\n",
      "\n",
      "Step #0\n",
      "1 | 2 | 0\n",
      "---------\n",
      "4 | 5 | 3\n",
      "---------\n",
      "7 | 8 | 6\n",
      "\n",
      "Step #1\n",
      "1 | 2 | 3\n",
      "---------\n",
      "4 | 5 | 0\n",
      "---------\n",
      "7 | 8 | 6\n",
      "\n",
      "Step #2\n",
      "1 | 2 | 3\n",
      "---------\n",
      "4 | 5 | 6\n",
      "---------\n",
      "7 | 8 | 0\n",
      "\n"
     ]
    }
   ],
   "source": [
    "initial_board_2 = [\n",
    "    1, 2, 0,\n",
    "    4, 5, 3,\n",
    "    7, 8, 6\n",
    "]\n",
    "final, operations = AStar(initial_board_2, target_board)\n",
    "print('Operations performed = {}'.format(operations))\n",
    "trace_route(final)"
   ]
  },
  {
   "cell_type": "markdown",
   "metadata": {},
   "source": [
    "## Example 3"
   ]
  },
  {
   "cell_type": "code",
   "execution_count": 7,
   "metadata": {},
   "outputs": [
    {
     "name": "stdout",
     "output_type": "stream",
     "text": [
      "Operations performed = 8\n",
      "Total steps: 4\n",
      "\n",
      "Step #0\n",
      "0 | 1 | 2\n",
      "---------\n",
      "4 | 5 | 3\n",
      "---------\n",
      "7 | 8 | 6\n",
      "\n",
      "Step #1\n",
      "1 | 0 | 2\n",
      "---------\n",
      "4 | 5 | 3\n",
      "---------\n",
      "7 | 8 | 6\n",
      "\n",
      "Step #2\n",
      "1 | 2 | 0\n",
      "---------\n",
      "4 | 5 | 3\n",
      "---------\n",
      "7 | 8 | 6\n",
      "\n",
      "Step #3\n",
      "1 | 2 | 3\n",
      "---------\n",
      "4 | 5 | 0\n",
      "---------\n",
      "7 | 8 | 6\n",
      "\n",
      "Step #4\n",
      "1 | 2 | 3\n",
      "---------\n",
      "4 | 5 | 6\n",
      "---------\n",
      "7 | 8 | 0\n",
      "\n"
     ]
    }
   ],
   "source": [
    "initial_board_3 = [\n",
    "    0, 1, 2,\n",
    "    4, 5, 3,\n",
    "    7, 8, 6\n",
    "]\n",
    "final, operations = AStar(initial_board_3, target_board)\n",
    "print('Operations performed = {}'.format(operations))\n",
    "trace_route(final)"
   ]
  },
  {
   "cell_type": "code",
   "execution_count": null,
   "metadata": {},
   "outputs": [],
   "source": []
  }
 ],
 "metadata": {
  "kernelspec": {
   "display_name": "Python 3",
   "language": "python",
   "name": "python3"
  },
  "language_info": {
   "codemirror_mode": {
    "name": "ipython",
    "version": 3
   },
   "file_extension": ".py",
   "mimetype": "text/x-python",
   "name": "python",
   "nbconvert_exporter": "python",
   "pygments_lexer": "ipython3",
   "version": "3.7.6"
  }
 },
 "nbformat": 4,
 "nbformat_minor": 4
}
